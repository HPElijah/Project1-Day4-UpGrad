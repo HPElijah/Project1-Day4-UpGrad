{
  "nbformat": 4,
  "nbformat_minor": 0,
  "metadata": {
    "colab": {
      "name": "Day4 Project.ipynb",
      "provenance": []
    },
    "kernelspec": {
      "name": "python3",
      "display_name": "Python 3"
    },
    "language_info": {
      "name": "python"
    }
  },
  "cells": [
    {
      "cell_type": "code",
      "metadata": {
        "colab": {
          "base_uri": "https://localhost:8080/"
        },
        "id": "iLDZhVniOf6s",
        "outputId": "16056999-89d6-4c46-8978-76d63a7fbcc6"
      },
      "source": [
        "#Day4 Project-Simple Temperature converter in py @UpGrad @30.07.21\n",
        "Fahrenheit=float(input(\"Enter a temperature in Fahrenheit: \"))\n",
        "\n",
        "Celsius=(Fahrenheit - 32) * 5.0/9.0\n",
        "\n",
        "print(\"Temperature: \", Fahrenheit, \"In Fahrenheit is = \", Celsius, \"C\")\n",
        "\n",
        "Celsius=float(input(\"Enter a temperature in Celsius: \"))\n",
        "\n",
        "Fahrenheit=9.0/5.0 * Celsius + 32\n",
        "\n",
        "print(\"Temperature: \", Celsius, \"In Celsius is = \", Fahrenheit, \" F\")"
      ],
      "execution_count": 2,
      "outputs": [
        {
          "output_type": "stream",
          "text": [
            "Enter a temperature in Fahrenheit: 122\n",
            "Temperature:  122.0 In Fahrenheit is =  50.0 C\n",
            "Enter a temperature in Celsius: 50\n",
            "Temperature:  50.0 In Celsius is =  122.0  F\n"
          ],
          "name": "stdout"
        }
      ]
    },
    {
      "cell_type": "code",
      "metadata": {
        "colab": {
          "base_uri": "https://localhost:8080/"
        },
        "id": "j82atrWfOu53",
        "outputId": "1aab520c-c4a8-4274-c194-4679d25e6244"
      },
      "source": [
        "\n",
        "#another one using stat ladder\n",
        "print(\"Choose from the option:\")\n",
        "\n",
        "print(\"1-Celsius to Fahrenheit\")\n",
        "\n",
        "print(\"2-Fahrenheit to Celsius\")\n",
        "\n",
        "a=int(input(\"option(1/2):\"))\n",
        "if(a==1):\n",
        "    c=float(input(\"Temperature in Celsius: \"))\n",
        "    f=1.8*(c)+32.0\n",
        "    f=round(f,1) #for precision\n",
        "    print(\"Temperature in Fahrenheit: \",f)\n",
        "elif(a==2):\n",
        "    f=float(input(\"Temperature in Fahrenheit: \"))\n",
        "    c=(f-32)/1.8\n",
        "    c=round(c,1) #for precision\n",
        "    print(\"Temperature in Celsius: \",c)\n",
        "else:\n",
        "    print(\"Choose 1 or 2\")"
      ],
      "execution_count": 3,
      "outputs": [
        {
          "output_type": "stream",
          "text": [
            "Choose from the option:\n",
            "1-Celsius to Fahrenheit\n",
            "2-Fahrenheit to Celsius\n",
            "option(1/2):1\n",
            "Temperature in Celsius: 50\n",
            "Temperature in Fahrenheit:  122.0\n"
          ],
          "name": "stdout"
        }
      ]
    },
    {
      "cell_type": "code",
      "metadata": {
        "id": "UHoK0W2mPCo1"
      },
      "source": [
        ""
      ],
      "execution_count": null,
      "outputs": []
    }
  ]
}